{
 "cells": [
  {
   "cell_type": "code",
   "execution_count": 6,
   "id": "7cdce4ee-b3e7-4b07-9364-a3743862caf9",
   "metadata": {},
   "outputs": [
    {
     "name": "stdout",
     "output_type": "stream",
     "text": [
      "Defaulting to user installation because normal site-packages is not writeable\n",
      "Requirement already satisfied: vtk in c:\\users\\sanji\\appdata\\roaming\\python\\python312\\site-packages (9.3.0)\n",
      "Requirement already satisfied: matplotlib>=2.0.0 in c:\\program files\\python312\\lib\\site-packages (from vtk) (3.8.2)\n",
      "Requirement already satisfied: contourpy>=1.0.1 in c:\\program files\\python312\\lib\\site-packages (from matplotlib>=2.0.0->vtk) (1.2.0)\n",
      "Requirement already satisfied: cycler>=0.10 in c:\\program files\\python312\\lib\\site-packages (from matplotlib>=2.0.0->vtk) (0.12.1)\n",
      "Requirement already satisfied: fonttools>=4.22.0 in c:\\program files\\python312\\lib\\site-packages (from matplotlib>=2.0.0->vtk) (4.48.1)\n",
      "Requirement already satisfied: kiwisolver>=1.3.1 in c:\\program files\\python312\\lib\\site-packages (from matplotlib>=2.0.0->vtk) (1.4.5)\n",
      "Requirement already satisfied: numpy<2,>=1.21 in c:\\program files\\python312\\lib\\site-packages (from matplotlib>=2.0.0->vtk) (1.26.4)\n",
      "Requirement already satisfied: packaging>=20.0 in c:\\program files\\python312\\lib\\site-packages (from matplotlib>=2.0.0->vtk) (23.2)\n",
      "Requirement already satisfied: pillow>=8 in c:\\program files\\python312\\lib\\site-packages (from matplotlib>=2.0.0->vtk) (10.2.0)\n",
      "Requirement already satisfied: pyparsing>=2.3.1 in c:\\program files\\python312\\lib\\site-packages (from matplotlib>=2.0.0->vtk) (3.1.1)\n",
      "Requirement already satisfied: python-dateutil>=2.7 in c:\\program files\\python312\\lib\\site-packages (from matplotlib>=2.0.0->vtk) (2.8.2)\n",
      "Requirement already satisfied: six>=1.5 in c:\\program files\\python312\\lib\\site-packages (from python-dateutil>=2.7->matplotlib>=2.0.0->vtk) (1.16.0)\n",
      "Defaulting to user installation because normal site-packages is not writeable\n",
      "Requirement already satisfied: plotly in c:\\users\\sanji\\appdata\\roaming\\python\\python312\\site-packages (5.20.0)\n",
      "Requirement already satisfied: tenacity>=6.2.0 in c:\\users\\sanji\\appdata\\roaming\\python\\python312\\site-packages (from plotly) (8.2.3)\n",
      "Requirement already satisfied: packaging in c:\\program files\\python312\\lib\\site-packages (from plotly) (23.2)\n",
      "Defaulting to user installation because normal site-packages is not writeable\n",
      "Requirement already satisfied: ipywidgets in c:\\program files\\python312\\lib\\site-packages (8.1.2)\n",
      "Requirement already satisfied: comm>=0.1.3 in c:\\program files\\python312\\lib\\site-packages (from ipywidgets) (0.2.1)\n",
      "Requirement already satisfied: ipython>=6.1.0 in c:\\program files\\python312\\lib\\site-packages (from ipywidgets) (8.21.0)\n",
      "Requirement already satisfied: traitlets>=4.3.1 in c:\\program files\\python312\\lib\\site-packages (from ipywidgets) (5.14.1)\n",
      "Requirement already satisfied: widgetsnbextension~=4.0.10 in c:\\program files\\python312\\lib\\site-packages (from ipywidgets) (4.0.10)\n",
      "Requirement already satisfied: jupyterlab-widgets~=3.0.10 in c:\\program files\\python312\\lib\\site-packages (from ipywidgets) (3.0.10)\n",
      "Requirement already satisfied: decorator in c:\\program files\\python312\\lib\\site-packages (from ipython>=6.1.0->ipywidgets) (5.1.1)\n",
      "Requirement already satisfied: jedi>=0.16 in c:\\program files\\python312\\lib\\site-packages (from ipython>=6.1.0->ipywidgets) (0.19.1)\n",
      "Requirement already satisfied: matplotlib-inline in c:\\program files\\python312\\lib\\site-packages (from ipython>=6.1.0->ipywidgets) (0.1.6)\n",
      "Requirement already satisfied: prompt-toolkit<3.1.0,>=3.0.41 in c:\\program files\\python312\\lib\\site-packages (from ipython>=6.1.0->ipywidgets) (3.0.43)\n",
      "Requirement already satisfied: pygments>=2.4.0 in c:\\program files\\python312\\lib\\site-packages (from ipython>=6.1.0->ipywidgets) (2.17.2)\n",
      "Requirement already satisfied: stack-data in c:\\program files\\python312\\lib\\site-packages (from ipython>=6.1.0->ipywidgets) (0.6.3)\n",
      "Requirement already satisfied: colorama in c:\\program files\\python312\\lib\\site-packages (from ipython>=6.1.0->ipywidgets) (0.4.6)\n",
      "Requirement already satisfied: parso<0.9.0,>=0.8.3 in c:\\program files\\python312\\lib\\site-packages (from jedi>=0.16->ipython>=6.1.0->ipywidgets) (0.8.3)\n",
      "Requirement already satisfied: wcwidth in c:\\program files\\python312\\lib\\site-packages (from prompt-toolkit<3.1.0,>=3.0.41->ipython>=6.1.0->ipywidgets) (0.2.13)\n",
      "Requirement already satisfied: executing>=1.2.0 in c:\\program files\\python312\\lib\\site-packages (from stack-data->ipython>=6.1.0->ipywidgets) (2.0.1)\n",
      "Requirement already satisfied: asttokens>=2.1.0 in c:\\program files\\python312\\lib\\site-packages (from stack-data->ipython>=6.1.0->ipywidgets) (2.4.1)\n",
      "Requirement already satisfied: pure-eval in c:\\program files\\python312\\lib\\site-packages (from stack-data->ipython>=6.1.0->ipywidgets) (0.2.2)\n",
      "Requirement already satisfied: six>=1.12.0 in c:\\program files\\python312\\lib\\site-packages (from asttokens>=2.1.0->stack-data->ipython>=6.1.0->ipywidgets) (1.16.0)\n"
     ]
    }
   ],
   "source": [
    "!pip install vtk\n",
    "!pip install plotly\n",
    "!pip install ipywidgets"
   ]
  },
  {
   "cell_type": "code",
   "execution_count": 19,
   "id": "6f81a64b-943d-4d33-aabf-0e8a99aed6d8",
   "metadata": {},
   "outputs": [],
   "source": [
    "import vtk\n",
    "\n",
    "# Loading dataset given to us\n",
    "reader = vtk.vtkXMLImageDataReader()\n",
    "file_path = './mixture.vti'\n",
    "reader.SetFileName(file_path)\n",
    "reader.Update()\n",
    "image_data = reader.GetOutput()"
   ]
  },
  {
   "cell_type": "code",
   "execution_count": 20,
   "id": "066f64eb-85ab-4b78-bdec-57e995b9368f",
   "metadata": {},
   "outputs": [],
   "source": [
    "import numpy as np\n",
    "from vtk.util import numpy_support\n",
    "\n",
    "# Getting the scalar data from the VTK dataset\n",
    "scalar_data = image_data.GetPointData().GetScalars()\n",
    "data_dim = image_data.GetDimensions()\n",
    "\n",
    "# Converting the VTK scalar data to a NumPy array\n",
    "numpy_array = numpy_support.vtk_to_numpy(scalar_data)\n",
    "\n",
    "# Reshaping the scalar data as per required encoding for iso_surface creation\n",
    "np_data = numpy_array.reshape(data_dim, order='F') # order='F' because plotly uses fortron like structure\n"
   ]
  },
  {
   "cell_type": "code",
   "execution_count": 21,
   "id": "68af1523-02c1-4341-8a1b-d91f6d49d584",
   "metadata": {},
   "outputs": [],
   "source": [
    "X, Y, Z = np.mgrid[0:data_dim[0], 0:data_dim[1], 0:data_dim[2]] # creating mesh grid for plotting given 3D data"
   ]
  },
  {
   "cell_type": "code",
   "execution_count": 22,
   "id": "f8e43757-3780-4534-a1a7-768b32d18c19",
   "metadata": {},
   "outputs": [
    {
     "data": {
      "application/vnd.jupyter.widget-view+json": {
       "model_id": "e06f08e74c24451a97172b939603d35b",
       "version_major": 2,
       "version_minor": 0
      },
      "text/plain": [
       "VBox(children=(HBox(children=(FloatSlider(value=0.0, continuous_update=False, description='Isovalue:', max=0.4…"
      ]
     },
     "metadata": {},
     "output_type": "display_data"
    }
   ],
   "source": [
    "# import plotly.express as px\n",
    "import plotly.graph_objects as go\n",
    "import ipywidgets as widgets\n",
    "\n",
    "# make iso-surface object \n",
    "isosurface = go.Isosurface(\n",
    "    x=X.flatten(),\n",
    "    y=Y.flatten(),\n",
    "    z=Z.flatten(),\n",
    "    value=np_data.flatten(),\n",
    "    isomin=0.0,\n",
    "    isomax=0.0,\n",
    "    cauto = False,\n",
    "    cmin = np_data.min(),\n",
    "    cmax = np_data.max(),\n",
    "    colorscale='plasma',\n",
    "    showscale=False\n",
    ")\n",
    "\n",
    "# layout of plotly graphical figure objects\n",
    "layout = go.Layout(\n",
    "    scene=dict(\n",
    "        xaxis=dict(showticklabels=False),\n",
    "        yaxis=dict(showticklabels=False),\n",
    "        zaxis=dict(showticklabels=False)\n",
    "    )\n",
    ")\n",
    "\n",
    "# creating iso_surface figur widget object and setting the layout\n",
    "iso_fig = go.FigureWidget(data=[isosurface], layout=layout)\n",
    "iso_fig.update_layout(width=520, height=500) # set height and width of iso_surface figure\n",
    "\n",
    "# creating histogram figure widget object and setting the layout \n",
    "hist_fig = go.Histogram(x=np_data.flatten(), nbinsx=30)\n",
    "histogram = go.FigureWidget(hist_fig)\n",
    "histogram.update_layout(width=500, height=500, showlegend=False, xaxis_title = 'Vortex scalar values', yaxis_title = 'Frequency')\n",
    "\n",
    "# creating a floating point slider widget for changing the value of iso_value for iso_surface updation\n",
    "slider = widgets.FloatSlider(\n",
    "    value=0.0,\n",
    "    min=np_data.min(),\n",
    "    max=np_data.max(),\n",
    "    step=0.01,\n",
    "    description='Isovalue:',\n",
    "    disabled=False,\n",
    "    continuous_update=False,\n",
    ")\n",
    "\n",
    "# Create Reset button for resetting to defaults \n",
    "reset_button = widgets.Button(\n",
    "    description='Reset',\n",
    "    disabled=False,\n",
    "    button_style=''\n",
    ")\n",
    "\n",
    "# Records button action when interated by user\n",
    "def on_button_click(reset_button):\n",
    "    slider.value = 0.00\n",
    "    isovalue = 0.00\n",
    "    iso_fig.data[0].isomin= isovalue\n",
    "    iso_fig.data[0].isomax= isovalue\n",
    "    histogram.data[0].x = np_data.flatten() \n",
    "\n",
    "# update isosurface function to be passed to slider interaction\n",
    "def update_isosurface(isovalue):\n",
    "    isomin = isovalue.new\n",
    "    isomax = isovalue.new\n",
    "    iso_fig.data[0].isomin = isomin\n",
    "    iso_fig.data[0].isomax = isomax\n",
    "    filtered_values = [val for val in np_data.flatten() if val >= isovalue.new - 0.25 and val <= isovalue.new + 0.25]\n",
    "    histogram.data[0].x = filtered_values\n",
    "\n",
    "# observes interaction to slider by user and do the action \n",
    "slider.observe(update_isosurface, names='value')\n",
    "\n",
    "# captures reset button interaction\n",
    "reset_button.on_click(on_button_click)\n",
    "\n",
    "\n",
    "# For creating the layout as given in assignment pdf -> VBox and HBox containers of widgets have been used\n",
    "Overall_vis = widgets.VBox([\n",
    "    widgets.HBox([slider, reset_button]), \n",
    "    widgets.HBox([iso_fig,histogram])\n",
    "])\n",
    "\n",
    "# display the final visualization \n",
    "display(Overall_vis)"
   ]
  },
  {
   "cell_type": "code",
   "execution_count": null,
   "id": "6c2c9525-d9c2-4e6b-b3e8-5e75d2f0d38e",
   "metadata": {},
   "outputs": [],
   "source": []
  }
 ],
 "metadata": {
  "kernelspec": {
   "display_name": "Python 3 (ipykernel)",
   "language": "python",
   "name": "python3"
  },
  "language_info": {
   "codemirror_mode": {
    "name": "ipython",
    "version": 3
   },
   "file_extension": ".py",
   "mimetype": "text/x-python",
   "name": "python",
   "nbconvert_exporter": "python",
   "pygments_lexer": "ipython3",
   "version": "3.12.2"
  }
 },
 "nbformat": 4,
 "nbformat_minor": 5
}
